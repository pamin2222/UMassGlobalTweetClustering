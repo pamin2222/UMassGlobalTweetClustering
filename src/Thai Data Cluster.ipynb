{
 "cells": [
  {
   "cell_type": "code",
   "execution_count": 1,
   "metadata": {},
   "outputs": [],
   "source": [
    "%matplotlib inline\n",
    "%reload_ext autoreload\n",
    "%autoreload 2"
   ]
  },
  {
   "cell_type": "code",
   "execution_count": 283,
   "metadata": {},
   "outputs": [],
   "source": [
    "import pandas as pd\n",
    "import numpy as np\n",
    "import matplotlib\n",
    "import matplotlib.pyplot as plt"
   ]
  },
  {
   "cell_type": "code",
   "execution_count": 285,
   "metadata": {},
   "outputs": [],
   "source": [
    "matplotlib.font_manager._rebuild()\n",
    "matplotlib.rc('font', family='TH Sarabun New')\n",
    "# Support Thai font\n",
    "#https://stackoverflow.com/questions/51810908/custom-fonts-in-google-colaboratory-matplotlib-charts?fbclid=IwAR2CjyBiibwkTfIdjDjIBlmLfmQqjX3-e_65CxPW7KnVyPe8RiVzU2JHaKs\n",
    "#wget https://github.com/Phonbopit/sarabun-webfont/raw/master/fonts/thsarabunnew-webfont.ttf -P /usr/local/lib/python3.6/site-packages/matplotlib/mpl-data/fonts/ttf"
   ]
  },
  {
   "cell_type": "code",
   "execution_count": 3,
   "metadata": {},
   "outputs": [
    {
     "name": "stdout",
     "output_type": "stream",
     "text": [
      "all_annotated.tsv  temp.txt\r\n"
     ]
    }
   ],
   "source": [
    "!ls files"
   ]
  },
  {
   "cell_type": "markdown",
   "metadata": {},
   "source": [
    "### Text extraction"
   ]
  },
  {
   "cell_type": "markdown",
   "metadata": {},
   "source": [
    "The dataset is https://www.kaggle.com/rtatman/the-umass-global-english-on-twitter-dataset  \n",
    "\n",
    "\n",
    "\n",
    "This dataset contains 10,502 tweets, randomly sampled from all publicly available geotagged Twitter messages, annotated for being in English, non-English, or having code switching, language ambiguity or having been automatically generated. It includes messages sent from 130 different countries.\n"
   ]
  },
  {
   "cell_type": "code",
   "execution_count": 4,
   "metadata": {},
   "outputs": [],
   "source": [
    "data_df = pd.read_csv('files/all_annotated.tsv', sep=\"\\t\")"
   ]
  },
  {
   "cell_type": "code",
   "execution_count": 5,
   "metadata": {},
   "outputs": [
    {
     "data": {
      "text/html": [
       "<div>\n",
       "<style scoped>\n",
       "    .dataframe tbody tr th:only-of-type {\n",
       "        vertical-align: middle;\n",
       "    }\n",
       "\n",
       "    .dataframe tbody tr th {\n",
       "        vertical-align: top;\n",
       "    }\n",
       "\n",
       "    .dataframe thead th {\n",
       "        text-align: right;\n",
       "    }\n",
       "</style>\n",
       "<table border=\"1\" class=\"dataframe\">\n",
       "  <thead>\n",
       "    <tr style=\"text-align: right;\">\n",
       "      <th></th>\n",
       "      <th>Tweet ID</th>\n",
       "      <th>Country</th>\n",
       "      <th>Date</th>\n",
       "      <th>Tweet</th>\n",
       "      <th>Definitely English</th>\n",
       "      <th>Ambiguous</th>\n",
       "      <th>Definitely Not English</th>\n",
       "      <th>Code-Switched</th>\n",
       "      <th>Ambiguous due to Named Entities</th>\n",
       "      <th>Automatically Generated Tweets</th>\n",
       "    </tr>\n",
       "  </thead>\n",
       "  <tbody>\n",
       "    <tr>\n",
       "      <th>0</th>\n",
       "      <td>434215992731136000</td>\n",
       "      <td>TR</td>\n",
       "      <td>2014-02-14</td>\n",
       "      <td>Bugün bulusmami lazimdiii</td>\n",
       "      <td>0</td>\n",
       "      <td>0</td>\n",
       "      <td>1</td>\n",
       "      <td>0</td>\n",
       "      <td>0</td>\n",
       "      <td>0</td>\n",
       "    </tr>\n",
       "    <tr>\n",
       "      <th>1</th>\n",
       "      <td>285903159434563584</td>\n",
       "      <td>TR</td>\n",
       "      <td>2013-01-01</td>\n",
       "      <td>Volkan konak adami tribe sokar yemin ederim :D</td>\n",
       "      <td>0</td>\n",
       "      <td>0</td>\n",
       "      <td>1</td>\n",
       "      <td>0</td>\n",
       "      <td>0</td>\n",
       "      <td>0</td>\n",
       "    </tr>\n",
       "    <tr>\n",
       "      <th>2</th>\n",
       "      <td>285948076496142336</td>\n",
       "      <td>NL</td>\n",
       "      <td>2013-01-01</td>\n",
       "      <td>Bed</td>\n",
       "      <td>1</td>\n",
       "      <td>0</td>\n",
       "      <td>0</td>\n",
       "      <td>0</td>\n",
       "      <td>0</td>\n",
       "      <td>0</td>\n",
       "    </tr>\n",
       "    <tr>\n",
       "      <th>3</th>\n",
       "      <td>285965965118824448</td>\n",
       "      <td>US</td>\n",
       "      <td>2013-01-01</td>\n",
       "      <td>I felt my first flash of violence at some fool...</td>\n",
       "      <td>1</td>\n",
       "      <td>0</td>\n",
       "      <td>0</td>\n",
       "      <td>0</td>\n",
       "      <td>0</td>\n",
       "      <td>0</td>\n",
       "    </tr>\n",
       "    <tr>\n",
       "      <th>4</th>\n",
       "      <td>286057979831275520</td>\n",
       "      <td>US</td>\n",
       "      <td>2013-01-01</td>\n",
       "      <td>Ladies drink and get in free till 10:30</td>\n",
       "      <td>1</td>\n",
       "      <td>0</td>\n",
       "      <td>0</td>\n",
       "      <td>0</td>\n",
       "      <td>0</td>\n",
       "      <td>0</td>\n",
       "    </tr>\n",
       "  </tbody>\n",
       "</table>\n",
       "</div>"
      ],
      "text/plain": [
       "             Tweet ID Country        Date  \\\n",
       "0  434215992731136000      TR  2014-02-14   \n",
       "1  285903159434563584      TR  2013-01-01   \n",
       "2  285948076496142336      NL  2013-01-01   \n",
       "3  285965965118824448      US  2013-01-01   \n",
       "4  286057979831275520      US  2013-01-01   \n",
       "\n",
       "                                               Tweet  Definitely English  \\\n",
       "0                          Bugün bulusmami lazimdiii                   0   \n",
       "1     Volkan konak adami tribe sokar yemin ederim :D                   0   \n",
       "2                                                Bed                   1   \n",
       "3  I felt my first flash of violence at some fool...                   1   \n",
       "4            Ladies drink and get in free till 10:30                   1   \n",
       "\n",
       "   Ambiguous  Definitely Not English  Code-Switched  \\\n",
       "0          0                       1              0   \n",
       "1          0                       1              0   \n",
       "2          0                       0              0   \n",
       "3          0                       0              0   \n",
       "4          0                       0              0   \n",
       "\n",
       "   Ambiguous due to Named Entities  Automatically Generated Tweets  \n",
       "0                                0                               0  \n",
       "1                                0                               0  \n",
       "2                                0                               0  \n",
       "3                                0                               0  \n",
       "4                                0                               0  "
      ]
     },
     "execution_count": 5,
     "metadata": {},
     "output_type": "execute_result"
    }
   ],
   "source": [
    "data_df.head()"
   ]
  },
  {
   "cell_type": "markdown",
   "metadata": {},
   "source": [
    "### Determining the language"
   ]
  },
  {
   "cell_type": "code",
   "execution_count": 6,
   "metadata": {},
   "outputs": [],
   "source": [
    "import langid "
   ]
  },
  {
   "cell_type": "markdown",
   "metadata": {},
   "source": [
    "LangID is a standalone Language Identification (LangID) tool. (https://github.com/saffsd/langid.py)\n",
    "\n",
    "Lui, Marco and Timothy Baldwin (2011) Cross-domain Feature Selection for Language Identification, In Proceedings of the Fifth International Joint Conference on Natural Language Processing (IJCNLP 2011), Chiang Mai, Thailand, pp. 553—561. Available from http://www.aclweb.org/anthology/I11-1062"
   ]
  },
  {
   "cell_type": "code",
   "execution_count": 7,
   "metadata": {},
   "outputs": [
    {
     "data": {
      "text/plain": [
       "0    az\n",
       "1    ms\n",
       "2    en\n",
       "3    en\n",
       "4    en\n",
       "Name: Tweet, dtype: object"
      ]
     },
     "execution_count": 7,
     "metadata": {},
     "output_type": "execute_result"
    }
   ],
   "source": [
    "guessed_langs = data_df['Tweet'].apply(langid.classify)\n",
    "langs = guessed_langs.apply(lambda tuple: tuple[0])\n",
    "langs[:5]"
   ]
  },
  {
   "cell_type": "code",
   "execution_count": 8,
   "metadata": {},
   "outputs": [],
   "source": [
    "guess_en_labels = langs.apply(lambda x: 1 if x == 'en' else 0)\n",
    "guess_en_labels = guess_en_labels.values\n",
    "\n",
    "en_labels = data_df['Definitely English'].values"
   ]
  },
  {
   "cell_type": "code",
   "execution_count": 9,
   "metadata": {},
   "outputs": [
    {
     "name": "stdout",
     "output_type": "stream",
     "text": [
      "Accuracy of guessed language using langid is 0.8268901161683488\n"
     ]
    }
   ],
   "source": [
    "from sklearn.metrics import accuracy_score\n",
    "y_pred = guess_en_labels\n",
    "y_true = en_labels\n",
    "print(\"Accuracy of guessed language using langid is {0}\".format(accuracy_score(y_true, y_pred)))"
   ]
  },
  {
   "cell_type": "code",
   "execution_count": 10,
   "metadata": {},
   "outputs": [
    {
     "name": "stdout",
     "output_type": "stream",
     "text": [
      "Number of unique languages:\n",
      "95\n",
      "\n",
      "Number of data in English:\n",
      "4302\n",
      "\n",
      "Percent of data in English:\n",
      "40.96362597600457\n",
      "\n",
      "Number of data in Thai:\n",
      "147\n",
      "\n",
      "Percent of data in Thai:\n",
      "1.399733384117311\n"
     ]
    }
   ],
   "source": [
    "print(\"Number of unique languages:\")\n",
    "print(len(langs.unique()))\n",
    "print(\"\")\n",
    "\n",
    "print(\"Number of data in English:\")\n",
    "print(sum(langs==\"en\"))\n",
    "print(\"\")\n",
    "\n",
    "print(\"Percent of data in English:\")\n",
    "print((sum(langs==\"en\")/len(langs))*100)\n",
    "print(\"\")\n",
    "\n",
    "print(\"Number of data in Thai:\")\n",
    "print((sum(langs==\"th\")))\n",
    "print(\"\")\n",
    "\n",
    "print(\"Percent of data in Thai:\")\n",
    "print((sum(langs==\"th\")/len(langs))*100)"
   ]
  },
  {
   "cell_type": "code",
   "execution_count": 288,
   "metadata": {},
   "outputs": [
    {
     "data": {
      "text/plain": [
       "<matplotlib.axes._subplots.AxesSubplot at 0x7f2d49e63c50>"
      ]
     },
     "execution_count": 288,
     "metadata": {},
     "output_type": "execute_result"
    },
    {
     "data": {
      "image/png": "[encoded data removed]",
      "text/plain": [
       "<Figure size 1440x720 with 1 Axes>"
      ]
     },
     "metadata": {
      "needs_background": "light"
     },
     "output_type": "display_data"
    }
   ],
   "source": [
    "langs_df = pd.DataFrame(langs)\n",
    "langs_count = langs_df.Tweet.value_counts()\n",
    "langs_count.plot.bar(figsize=(20,10), fontsize=20)"
   ]
  },
  {
   "cell_type": "markdown",
   "metadata": {},
   "source": [
    "Start from this step, we will work only with Thai text."
   ]
  },
  {
   "cell_type": "code",
   "execution_count": 12,
   "metadata": {},
   "outputs": [],
   "source": [
    "data_df['guessed_lang'] = langs"
   ]
  },
  {
   "cell_type": "code",
   "execution_count": 13,
   "metadata": {},
   "outputs": [],
   "source": [
    "data_th_df = data_df[data_df[\"guessed_lang\"] == 'th']"
   ]
  },
  {
   "cell_type": "code",
   "execution_count": 14,
   "metadata": {},
   "outputs": [
    {
     "data": {
      "text/plain": [
       "array(['th'], dtype=object)"
      ]
     },
     "execution_count": 14,
     "metadata": {},
     "output_type": "execute_result"
    }
   ],
   "source": [
    "data_th_df[\"guessed_lang\"].unique()"
   ]
  },
  {
   "cell_type": "code",
   "execution_count": 15,
   "metadata": {},
   "outputs": [
    {
     "data": {
      "text/html": [
       "<div>\n",
       "<style scoped>\n",
       "    .dataframe tbody tr th:only-of-type {\n",
       "        vertical-align: middle;\n",
       "    }\n",
       "\n",
       "    .dataframe tbody tr th {\n",
       "        vertical-align: top;\n",
       "    }\n",
       "\n",
       "    .dataframe thead th {\n",
       "        text-align: right;\n",
       "    }\n",
       "</style>\n",
       "<table border=\"1\" class=\"dataframe\">\n",
       "  <thead>\n",
       "    <tr style=\"text-align: right;\">\n",
       "      <th></th>\n",
       "      <th>Tweet ID</th>\n",
       "      <th>Country</th>\n",
       "      <th>Date</th>\n",
       "      <th>Tweet</th>\n",
       "      <th>Definitely English</th>\n",
       "      <th>Ambiguous</th>\n",
       "      <th>Definitely Not English</th>\n",
       "      <th>Code-Switched</th>\n",
       "      <th>Ambiguous due to Named Entities</th>\n",
       "      <th>Automatically Generated Tweets</th>\n",
       "      <th>guessed_lang</th>\n",
       "    </tr>\n",
       "  </thead>\n",
       "  <tbody>\n",
       "    <tr>\n",
       "      <th>3583</th>\n",
       "      <td>450155396590993408</td>\n",
       "      <td>TH</td>\n",
       "      <td>2014-03-30</td>\n",
       "      <td>พี่มิวววววเกร้ด</td>\n",
       "      <td>0</td>\n",
       "      <td>0</td>\n",
       "      <td>1</td>\n",
       "      <td>0</td>\n",
       "      <td>0</td>\n",
       "      <td>0</td>\n",
       "      <td>th</td>\n",
       "    </tr>\n",
       "    <tr>\n",
       "      <th>3607</th>\n",
       "      <td>451223589384388608</td>\n",
       "      <td>TH</td>\n",
       "      <td>2014-04-02</td>\n",
       "      <td>En France. @ งานสัปดาห์หนังสือแห่งชาติครั้งที่...</td>\n",
       "      <td>0</td>\n",
       "      <td>1</td>\n",
       "      <td>0</td>\n",
       "      <td>1</td>\n",
       "      <td>0</td>\n",
       "      <td>0</td>\n",
       "      <td>th</td>\n",
       "    </tr>\n",
       "    <tr>\n",
       "      <th>3610</th>\n",
       "      <td>451347288049188864</td>\n",
       "      <td>TH</td>\n",
       "      <td>2014-04-02</td>\n",
       "      <td>หวังว่าคงไม่ใช่นะ</td>\n",
       "      <td>0</td>\n",
       "      <td>0</td>\n",
       "      <td>1</td>\n",
       "      <td>0</td>\n",
       "      <td>0</td>\n",
       "      <td>0</td>\n",
       "      <td>th</td>\n",
       "    </tr>\n",
       "    <tr>\n",
       "      <th>3715</th>\n",
       "      <td>456422077029826560</td>\n",
       "      <td>TH</td>\n",
       "      <td>2014-04-16</td>\n",
       "      <td>15 เมษา 1912 (102ปีที่เเล้ว) เรือไททานิกอับปาง...</td>\n",
       "      <td>0</td>\n",
       "      <td>0</td>\n",
       "      <td>1</td>\n",
       "      <td>0</td>\n",
       "      <td>0</td>\n",
       "      <td>0</td>\n",
       "      <td>th</td>\n",
       "    </tr>\n",
       "    <tr>\n",
       "      <th>3717</th>\n",
       "      <td>456441928729362432</td>\n",
       "      <td>TH</td>\n",
       "      <td>2014-04-16</td>\n",
       "      <td>@Santa_Xiuminbot มุ้งมิ้งอะไรรร~</td>\n",
       "      <td>0</td>\n",
       "      <td>0</td>\n",
       "      <td>1</td>\n",
       "      <td>0</td>\n",
       "      <td>0</td>\n",
       "      <td>0</td>\n",
       "      <td>th</td>\n",
       "    </tr>\n",
       "  </tbody>\n",
       "</table>\n",
       "</div>"
      ],
      "text/plain": [
       "                Tweet ID Country        Date  \\\n",
       "3583  450155396590993408      TH  2014-03-30   \n",
       "3607  451223589384388608      TH  2014-04-02   \n",
       "3610  451347288049188864      TH  2014-04-02   \n",
       "3715  456422077029826560      TH  2014-04-16   \n",
       "3717  456441928729362432      TH  2014-04-16   \n",
       "\n",
       "                                                  Tweet  Definitely English  \\\n",
       "3583                                    พี่มิวววววเกร้ด                   0   \n",
       "3607  En France. @ งานสัปดาห์หนังสือแห่งชาติครั้งที่...                   0   \n",
       "3610                                  หวังว่าคงไม่ใช่นะ                   0   \n",
       "3715  15 เมษา 1912 (102ปีที่เเล้ว) เรือไททานิกอับปาง...                   0   \n",
       "3717                   @Santa_Xiuminbot มุ้งมิ้งอะไรรร~                   0   \n",
       "\n",
       "      Ambiguous  Definitely Not English  Code-Switched  \\\n",
       "3583          0                       1              0   \n",
       "3607          1                       0              1   \n",
       "3610          0                       1              0   \n",
       "3715          0                       1              0   \n",
       "3717          0                       1              0   \n",
       "\n",
       "      Ambiguous due to Named Entities  Automatically Generated Tweets  \\\n",
       "3583                                0                               0   \n",
       "3607                                0                               0   \n",
       "3610                                0                               0   \n",
       "3715                                0                               0   \n",
       "3717                                0                               0   \n",
       "\n",
       "     guessed_lang  \n",
       "3583           th  \n",
       "3607           th  \n",
       "3610           th  \n",
       "3715           th  \n",
       "3717           th  "
      ]
     },
     "execution_count": 15,
     "metadata": {},
     "output_type": "execute_result"
    }
   ],
   "source": [
    "data_th_df.head()"
   ]
  },
  {
   "cell_type": "code",
   "execution_count": 16,
   "metadata": {},
   "outputs": [
    {
     "name": "stdout",
     "output_type": "stream",
     "text": [
      "There are 147 row left\n"
     ]
    }
   ],
   "source": [
    "print(\"There are {0} row left\".format(len(data_th_df)))"
   ]
  },
  {
   "cell_type": "markdown",
   "metadata": {},
   "source": [
    "### Part of speech tagging & Remove irrelevant words¶"
   ]
  },
  {
   "cell_type": "code",
   "execution_count": 247,
   "metadata": {},
   "outputs": [],
   "source": [
    "import re\n",
    "def clean_string(text):\n",
    "    #https://stackoverflow.com/questions/38615740/regular-expression-to-accept-all-thai-characters-and-english-letters-in-python\n",
    "    pattern = re.compile(r\"[^\\u0E00-\\u0E7Fa-zA-Z' ]|^'|'$|''\")\n",
    "    char_to_remove = re.findall(pattern, text)\n",
    "    list_with_char_removed = [char for char in text if not char in char_to_remove]\n",
    "    text = ''.join(list_with_char_removed)\n",
    "    \n",
    "    #custom\n",
    "    text = re.sub(r\" https \", \" http \", text)  \n",
    "    text = re.sub(r'(.)\\1{2,}', r'\\1', text) # buuuuuttttt -> but\n",
    "    return text"
   ]
  },
  {
   "cell_type": "code",
   "execution_count": 248,
   "metadata": {},
   "outputs": [],
   "source": [
    "from pythainlp.corpus import stopwords \n",
    "from pythainlp.tokenize import word_tokenize # apt install libicu-dev # pip install pyicu\n",
    "from pythainlp.tag import pos_tag"
   ]
  },
  {
   "cell_type": "code",
   "execution_count": 249,
   "metadata": {},
   "outputs": [],
   "source": [
    "def th_tokenizer(text):\n",
    "    tokens = word_tokenize(text=text, engine='icu')\n",
    "    return tokens"
   ]
  },
  {
   "cell_type": "code",
   "execution_count": 256,
   "metadata": {},
   "outputs": [],
   "source": [
    "def extract_th_noun_token(doc):\n",
    "    word_w_pos = pos_tag(th_tokenizer(doc), engine='perceptron', corpus='orchid')\n",
    "    noun_tokens = []\n",
    "    for token, pos_item in word_w_pos:\n",
    "        if pos_item in [\"NPRP\", \"NCMN\", \"NTTL\"] and len(token.strip()) > 1: \n",
    "            #https://www.researchgate.net/publication/243783378_Thai_Part-of-speech_Tagged_Corpus_ORCHID\n",
    "            noun_tokens.append(token)\n",
    "    return noun_tokens"
   ]
  },
  {
   "cell_type": "code",
   "execution_count": 257,
   "metadata": {},
   "outputs": [],
   "source": [
    "data_th_df.loc[:,'Tweet_clean'] = data_th_df[\"Tweet\"].apply(clean_string)"
   ]
  },
  {
   "cell_type": "code",
   "execution_count": 258,
   "metadata": {},
   "outputs": [],
   "source": [
    "data_th_df.loc[:,'Tweet_noun_clean'] = data_th_df['Tweet_clean'].apply(extract_th_noun_token)"
   ]
  },
  {
   "cell_type": "code",
   "execution_count": 259,
   "metadata": {},
   "outputs": [],
   "source": [
    "data_th_df.loc[:,'Tweet_noun_clean'] = data_th_df['Tweet_noun_clean'].apply(lambda x: \" \".join(x) \\\n",
    "                                                                            if len(x) > 0 else \"\")"
   ]
  },
  {
   "cell_type": "code",
   "execution_count": 260,
   "metadata": {},
   "outputs": [
    {
     "name": "stdout",
     "output_type": "stream",
     "text": [
      "There are 819 unique words detected as nouns\n"
     ]
    }
   ],
   "source": [
    "noun_tokens = []\n",
    "for item in data_th_df['Tweet_noun_clean']:\n",
    "    if item != '':\n",
    "        noun_tokens += item.split()\n",
    "print(\"There are {0} unique words detected as nouns\".format(len(set(noun_tokens))))"
   ]
  },
  {
   "cell_type": "code",
   "execution_count": 261,
   "metadata": {
    "scrolled": true
   },
   "outputs": [
    {
     "name": "stdout",
     "output_type": "stream",
     "text": [
      "All of nouns tokens are: \n",
      "['พี่', 'เก', 'ร้ด', 'En', 'France', 'งาน', 'สัปดาห์', 'หนังสือ', 'ชาติ', 'ศูนย์', 'ชาติ', 'สิ', 'ริกิ', 'ตต์', 'httptcoyhheWpqd', 'นะ', 'เมษา', 'ปี', 'เรือ', 'ไท', 'ทา', 'นิ', 'กอับ', 'ปาง', 'เมษา', 'ตอน', 'เฟ', 'รี่', 'ล่ม', 'เเล้', 'วอีก', 'ปี', 'หน้า', 'nPrayForSouthKorea', 'SantaXiuminbot', 'มุ้ง', 'มิ้', 'งอะ', 'ไร', 'ฝน', 'at', 'CentralWorld', 'เซ็นทรัล', 'เวิลด์', 'others', 'httptcoHfvcYvXWu', 'KarNatthaporn', 'งาน', 'ไร', 'เอั', 'นะ', 'พรุ่ง', 'โซน', 'หน้า', 'คอม', 'nLOSTPLANETinSEOUL', 'AnavilAFAL', 'แบบ', 'ฟลู', 'ค่า', 'ขนม', 'ผิช', 'ฝัน', 'คิดถึง', 'วาย', 'คิ', 'ถึ', 'httptcolxWxBYyRd', 'น่า', 'thelittlemermaid', 'Ariel', 'linestickers', 'official', 'flounder', 'underthesea', 'httptcoJjnlRSKln', 'รุ้ง', 'ริ้ง', 'หนุ่ม', 'FSI', 'npetetosapol', 'ehipx', 'พี', 'เรื่อง', 'สติ้', 'เก้อ', 'ไลน์', 'สี่', 'httptcolTWOXhO', 'BelliiCAbePA', 'ปลาย', 'ปลาย', 'ตี', 'นครั', 'สติ', 'มาๆ', 'ไปๆ', 'ไร', 'ไร', 'รัช', 'jsradio', 'คิว', 'httptcovGIXee', 'chatchafern', 'ฟญ', 'ไร', 'มาน่', 'เห้', 'ออ', 'คน', 'นะ', 'ส่วน', 'แปป', 'littlestar', 'กุ้ง', 'ม้าน้ำ', 'พี่', 'ชาน', 'พรี', 'เซนเตอร์', 'แบบ', 'โคตร', 'คุ้ม', 'นะ', 'httptcoetjooVVTi', 'โอกาส', 'ที', 'วัน', 'ปี', 'หัวค่ำ', 'สาง', \"I'm\", 'at', 'SiamParagon', 'พา', 'รา', 'กอน', 'in', 'Pathum', 'Wan', 'Bangkok', 'httpstcoIDaKUvNV', 'คุม', 'โทน', 'ไอ', 'จี', 'แบบ', 'โน', 'ฟิล', 'เตอร์', 'เป็นไร', 'คุย', 'ซัก', 'วัน', 'คุย', 'วัน', 'คุย', 'บ้าน', 'เวลา', 'เดี๋ยว', 'นะ', 'วัน', 'สอบ', 'ลาว', 'เห้ย', 'คน', 'บ้า', 'คน', 'โรงเรียน', 'แม่', 'งบ้า', 'โอ้', 'มอ', 'ค่า', 'เย็น', 'ใจ', 'รี', 'ล่า', 'อย่า', 'เสือก', 'ประเด็น', 'นะ', 'feelingsadd', 'กู', 'ช่วง', 'หัวใจ', 'กู', 'ว่ะ', 'แม่', 'งก', 'ตุ', 'ตอน', 'ทรง', 'ไม่รู้', 'ไง', 'ฮา', 'chiangrai', 'vocational', 'college', 'httptcojIFfICUJL', 'เหงา', 'พี่', 'นอู', 'พูด', 'ปัญหา', 'ขอร้อง', 'เดี๋ยว', 'โดน', 'อี', 'น้อง', 'พา', 'โบ', 'choieun', 'ชื่อ', 'แปป', 'เจ้', 'ก๋วยเตี๋ยว', 'เรือ', 'ลุง', 'ณัฐ', 'in', 'Nai', 'Muang', 'Ubon', 'Ratchathani', 'httpstcoSaDQvhGNQ', 'เเค่เเอบ', 'มึง', 'ใจ', 'เก๊', 'ชิ', 'ปุ๊', 'เต', 'งง', 'หลวง', 'ปู่ทวด', 'เหยียบ', 'น้ำ', 'ทะเล', 'จืด', 'มงคล', 'หัวหิน', 'ประจวบคีรีขันธ์', 'httptcoQWjiktPcf', 'ตบ', 'จักรยาน', 'เด็ก', 'อ้วน', 'แถว', 'ขา', 'Rajamangala', 'Stadium', 'httptcoSAvkgjqXnZ', 'ไล่', 'ฮุ', 'ximlq', 'httptcoffVKYRF', 'ทำไม', 'กู', 'โง่', 'แบบ', 'ล่ะ', \"I'm\", 'at', 'BTS', 'Siam', 'CEN', 'btsskytrain', 'in', 'Pathum', 'Wan', 'Bangkok', 'httpstcoWPGkYpHOA', 'เพื่อน', 'บุก', 'afreshsc', \"Heaven's\", 'httpstcoExHqxSTog', 'forLUMIN', 'เดือน', 'คะ', 'ราคา', 'ไหร่', 'คะ', 'ดีใจ', 'สัก', 'ไหร่', 'คัน', 'สัส', \"Let's\", 'take', 'Trip', 'nn', 'httpstcoHHRNNIDK', 'mildbong', 'เต', 'งง', 'กู', 'จุน', 'นี่', 'นั่ง', 'เก้าอี้', 'แตก', 'หนี', 'ไร', 'อ้วน', 'มั้ย', 'ป้าบ', 'อม', 'ป้าบ', 'อม', 'tmyy', 'เวร', 'กรรม', 'ยา', 'ปวด', 'จด', 'ซัด', 'พารา', 'ที', 'เหอะ', 'กู', 'เอ้', 'าา', 'ซะ', 'งั้น', 'เอ้', 'รี', 'ทวิ', 'โอ้', 'cuties', 'ตีน', 'ชีวิต', 'วัน', 'อวอย', 'หิว', 'สังขาร', 'ลุย', 'ปี', 'ลุง', 'Riverside', 'Food', 'Stall', 'ตลาด', 'โต้', 'ริม', 'น้ำ', 'httpstcoRakJrfON', 'inokk', 'คะแนน', 'บี้', 'ไหม', 'Smile', 'is', 'happinessnMy', 'happiness', 'is', 'younnLoveYouAonkorakot', 'พื้นที่', 'อ้น', 'httpstcoVArrHZrNwy', 'ไอ', 'Building', 'in', 'Muang', 'Chiang', 'Rai', 'Chiang', 'Rai', 'httpstcoeagPboBKy', 'แบบ', \"I'm\", 'at', 'KFC', 'เค', 'เอฟ', 'ซี', 'kfcth', 'in', 'Mueang', 'Rayong', 'Rayong', 'httpstcoNDgBbANuM', 'ใจ', 'PhatraWealthMoonlightSerenade', 'Grand', 'Hyatt', 'Erawan', 'Bangkok', 'httpstcopIBfRkr', 'สาย', 'แด', 'รก', 'บ้า', 'นระกิ', 'ติ', 'httpstcoDJDfXgHmc', 'ม่วน', 'สนาม', 'ฟุตบอล', 'EP', 'Stadium', 'httpstcoWfPyzi', 'Meeting', 'Beyond', 'Cafe', 'กาแฟ', 'เค้ก', 'อุดรธานี', 'httpstcoUcBSaMRx', 'อาหาร', 'เที่ยง', 'gtgtgt', 'ก๋วย', 'จั๊บ', 'ขาไก่', 'กระดูก', 'หมู', 'nn', 'ปาก', 'ลำบาก', 'ตูด', 'แสบ', 'บ้าน', 'httpstcoDnclPFwt', \"I'm\", 'at', 'Megabangna', 'เม', 'กา', 'บางนา', 'in', 'Bang', 'Phli', 'Changwat', 'Samut', 'Prakan', 'httpstcocXiAqkcAkm', 'xzomxs', 'กู', 'กู', 'คอ', 'เวลา', 'หัว', 'ร่างกาย', 'กาแฟ', 'แน่ๆ', 'Wara', 'Cofee', 'httpstcoCiRFhdyTj', 'Just', 'posted', 'photo', 'Siam', 'Paragon', 'พา', 'รา', 'กอน', 'httpstcodPlNaGFGW', 'แก๊ง', 'ใจ', 'ไนท์', 'บาร์', 'ซ่า', 'สาร', 'คาม', 'jingjb', 'noeii', 'leelazerss', 'benzdak', 'httpstcowARZjcgeD', \"I'm\", 'at', 'The', 'Mall', 'Bangkapi', 'เดอะมอลล์', 'บางกะปิ', 'themallgroup', 'in', 'Bang', 'Kapi', 'Bangkok', 'giggkjn', 'armkwanhong', 'httpstcoDaqYSlzso', \"I'm\", 'at', 'Starbucks', 'ตาร์บัคส์', 'in', 'Pathum', 'Wan', 'Bangkok', 'httpstcoufPalvMCm', 'หมู', 'ThankseniorMS', 'Silpakorn', 'University', 'Petchaburi', 'IT', 'Campus', 'httpstcoTxQQRHGxMY', 'ปี', 'Infiniteeffect', 'กาด', 'โหด', 'ชิ', 'วัน', 'httpstcoLuYmTIhdz', \"I'm\", 'at', 'TrueCoffee', 'ทรู', 'คอฟ', 'ฟี่', 'in', 'Pathum', 'Wan', 'Bangkok', 'httpstcozGADuWJP', \"I'm\", 'at', 'โรงเรียน', 'สุร', 'นารี', 'วิทยา', 'Suranari', 'Wittaya', 'school', 'in', 'Nakhon', 'Ratchasima', 'nattayapnty', 'maprang', 'metnichac', 'httpstcoXdLQKahe', 'ซอย', 'รังสิต', 'ภิรมย์', 'มก', 'รุง', 'เทพ', 'httpstcoWwLgEvjx', \"I'm\", 'at', 'SiamParagon', 'พา', 'รา', 'กอน', 'in', 'Pathum', 'Wan', 'Bangkok', 'httpstcoLDWEGFnE', \"I'm\", 'at', 'ปทุม', 'วนาราม', 'ราชวรวิหาร', 'Wat', 'Patumwanaram', 'in', 'Pathum', 'Wan', 'Bangkok', 'httpstcoNqyvtSAw', 'ปี', 'งาน', 'กระทง', 'ปี', 'ไม่รู้', 'คน', 'ม้า', 'อิ๊', 'httpstcoUAaYzjiy', 'โปรด', 'bakery', 'makro', 'httpstcoYXPuHHelzP', 'httpstcoYIEvh', 'ตัว', 'อาบ', 'น้ำ', 'พัก', 'ผ่อน', 'อา', 'เถอะ', 'แมนชั่น', 'httpstcozQwhTHDWc', \"I'm\", 'at', 'ห้อง', 'ศิลป์', 'ภาษา', 'จีน', 'in', 'Muang', 'httpstcoghTvosQdQ', 'บ้า', 'นร', 'ยอะ', 'ไง', 'เด', 'สวนบัว', 'ชมพู', 'จอม', 'คีรี', 'httpstcoUIfpxNzh', \"I'm\", 'at', 'Tengoku', 'de', 'Cuisine', 'เท', 'โก', 'กุ', 'เดอ', 'คู', 'ซีน', 'in', 'Mueang', 'Chiang', 'Mai', 'Chiang', 'Mai', 'httpstcoBdFUzJrOY', 'httpstcoNwLVXf', \"I'm\", 'at', 'Siam', 'Center', 'สยามเซ็นเตอร์', 'in', 'Pathum', 'Wan', 'Bangkok', 'greanpatta', 'httpstcomCsck', 'ไอซ์', 'Lippo', 'Room', 'httpstcoIsXkMYNp', 'เมื่อย', 'ตูด', 'ไปดิ', 'รถไฟ', 'พญาไท', 'Phayathai', 'SRT', 'in', 'Ratchathewi', 'Bangkok', 'httpstcowSaOqCnGPO', \"I'm\", 'at', 'สวน', 'นาย', 'ดำ', 'ชุมพร', 'in', 'Thung', 'Tako', 'Chumphon', 'httpstcoFakvpmyAw', 'เพื่อนๆ', 'รีบ', 'ค่ะ', 'อาคาร', 'Imagine', 'Village', 'in', 'Khlong', 'Luang', 'Pathum', 'Thani', 'httpstcoIlzcpvQxQ', 'วัน', 'วิน', 'Shibuya', 'ชิ', 'บูญ่า', 'in', 'Ratchathewi', 'Bangkok', 'httpstcoqnkrwtuJiV', 'พัก', 'วัน', 'ฟิ', 'กาแฟ', 'DarkGold', 'DarkChocMocca', 'httpstcoVxsDtygGB', 'สี', 'ทรง', 'ไร', 'Mister', 'Eye', 'httpstcoWanNcMJoD', \"I'm\", 'at', 'หยุด', 'รถ', 'ทาง', 'สน', 'ตลิ่งชัน', 'in', 'ตลิ่งชัน', 'กรุงเทพมหานคร', 'httpstcoQlbq', 'ทริป', 'ก้อ', 'httpstcoZHRyePeD', \"I'm\", 'at', 'อาคาร', 'โรงเรียน', 'สาร', 'คาม', 'พิทยาคม', 'httpstcoDMhmMaWgx', \"I'm\", 'at', 'Paragon', 'Cineplex', 'พา', 'รา', 'กอน', 'ซี', 'นี', 'เพล็', 'กซ์', 'in', 'Pathum', 'Wan', 'Bangkok', 'hhommh', 'httpstcosNVvyu', 'จักรยาน', 'ตะกร้า', 'ของกิน', 'บ้าน', 'ดอน', 'ระยะ', 'ทาง', 'กม', 'httpstcombbAEnIA', 'สะตอ', 'ผัด', 'กุ้ง', 'หมู', 'สับ', 'londonlife', 'thaicuisine', 'ขน', 'กราบ', 'httpstcoHPMtWEsoCK', \"I'm\", 'at', 'Tesco', 'Lotus', 'เท', 'โก้', 'โลตัส', 'in', 'Mueang', 'Pathum', 'Thani', 'Pathum', 'Thani', 'httpstcoiKUBdOZNX', 'ถั่วดำ', 'วิหาร', 'พระ', 'มงคล', 'บพิตร', 'พระนครศรีอยุธยา', 'httpstcoMjDoxbz', \"I'm\", 'at', 'Centerpoint', 'of', 'Siam', 'Square', 'เซ็น', 'เต', 'อร์', 'พ้อ', 'ออฟ', 'สยามสแควร์', 'digitalgateway', 'in', 'Pathum', 'Wan', 'Bangkok', 'httpstcoCOtBBUQpD', 'บนำ้', 'ฟิตเนส', 'ตอน', 'แน่ๆ', 'SCB', 'Park', 'Plaza', 'East', 'Tower', 'in', 'Chatuchak', 'Bangkok', 'httpstcokycmuED', 'แย้', 'อา', 'กา', 'มั๊กๆ', 'ontherivercafe', 'On', 'the', 'River', 'Cafe', 'httpstcoSwLPqCCNvs', \"I'm\", 'at', 'Sermthai', 'Complex', 'ไทย', 'คอมเพล็กซ์', 'in', 'Mueang', 'Maha', 'Sarakham', 'Maha', 'Sarakham', 'httpstcoVtFgZGbVX', 'แหนม', 'แน่น', 'ไข่', 'เจียว', 'แหนม', 'แหนม', 'ห่อ', 'ไข่', 'กลัว', 'รสชาติ', 'แหนม', 'httpstcosFNbly', \"I'm\", 'at', 'Tesco', 'Lotus', 'เท', 'โก้', 'โลตัส', 'in', 'Bang', 'Sue', 'Bangkok', 'httpstcoFgbFHnzkCI', \"I'm\", 'at', 'CentralWorld', 'เซ็นทรัล', 'เวิลด์', 'in', 'Pathum', 'Wan', 'Bangkok', 'httpstcokLHagtC', 'ปาย', 'ตันหยง', 'httpstcoLjifMwxhwi', 'วาร์', 'แป้บ', 'อ่าว', 'มะนาว', 'Ao', 'Manao', 'in', 'Mueang', 'Prachuap', 'Khiri', 'Khan', 'Prachuap', 'Khiri', 'Khan', 'httpstcosNKJFiDldo', 'โต', 'โย', 'ต้า', 'เกาหลี', 'หนาว', 'โต', 'โย', 'ต้า', 'แอ', 'เทพารักษ์', 'httpstcoOzNFZVVCg', 'ไม่มี', 'กาแฟ', 'รสนิยม', 'Roastniyom', 'in', 'Mueang', 'Chiang', 'Mai', 'Chiang', 'Mai', 'httpstcoXtDUqCre', 'เหยด', 'อาหาร', 'ตา', 'อนุสาวรีย์', 'ชัยสมรภูมิ', 'in', 'Ratchathewi', 'Bangkok', 'httpstcoLuBiAwiF', 'ฟ้า', 'ครึ้ม', 'ฝน', 'ฟ้าร้อง', 'Kasetsart', 'University', 'in', 'Chatuchak', 'Bangkok', 'httpstcoOsWPWmspY', 'มึง', 'โหลด', 'คืน', 'หรอ', 'ดั๋ม', 'ได๋', 'เอ้', 'โรง', 'Bodin', 'nammotmelo', 'httpstcoaCUizvtDFe', 'อี', 'ไนซ์', 'หิว', 'โรง', 'อาหาร', 'in', 'Mueang', 'Ratchaburi', 'Ratchaburi', 'mimpnr', 'boomelody', 'httpstcoUeDrXbv', 'เพื่อน', 'หนอน', 'ค่ะ', 'โรง', 'อาหาร', 'สมรรถ', 'เกียรติ', 'in', 'ลำปาง', 'httpstcoLlFXcsR', 'httpstcobAbjdBHVl', 'โลน', 'สัส', 'Badminton', 'Court', 'httpstcopdwZiGY', 'กู', 'อดิ', 'ดา', 'เลอะเทอะ', \"I'm\", 'at', 'โรงเรียน', 'มอ', 'วิทยา', 'นุ', 'สรณ์', 'in', 'Hat', 'Yai', 'Songkhla', 'httpstcoGWNmyTMIHs', \"I'm\", 'at', 'เอ็มเค', 'in', 'Khanna', 'Yao', 'Bangkok', 'httpstcoUgTnSnFl', 'แดด', 'Suvarnabhumi', 'Airport', 'in', 'Bang', 'Phli', 'Samut', 'Prakan', 'httpstcowZVBSwCWn', \"I'm\", 'at', 'ลาน', 'รวมใจ', 'รนว', 'นท', 'รา', 'ชินู', 'ทิศ', 'อุดมศึกษา', 'เกล้า', 'httpstcovhcXgOzv', 'httpstcokzYKiZYJ', 'เค้ก', 'ออนไลน์', 'บ้าน', 'ครอบครัว', 'บุนนาค', 'httpstcowHCDNOKl', 'httpstcoUMPJlTBZz', 'ร้าน', 'สุข', 'สราญ', 'บาร์', 'in', 'เชียงราย', 'httpstcokzCqDebX', 'ร้าน', 'หวาน', 'ตลาด', 'หลักเมือง', 'in', 'Mueang', 'Lampang', 'ลำปาง', 'bigsilvery', 'httpstcoejwuGTrpd', 'httpstcodlrCBC', 'ซารุ', 'เส้น', 'บ้าน', 'ครับ', 'ร้าน', 'ซู', 'ชิญ่า', 'สรง', 'ประภา', 'httpstcoHdGOxtvecR', 'เหล่า', 'ชาว', 'ฮูก', 'ตึก', 'คอม', 'เลน', 'มาร์ค', 'อุดรธานี', 'httpstcoCArYVRnr', 'วัน', 'พัก', 'ผ่อน', 'Factory', 'Coffee', 'Chiang', 'Mai', 'in', 'Thailand', 'httpstcoxIYLqDGYO', 'httpstcoInscaXWXz', 'ต้ิง', 'หลืบ', 'กล่อง', 'ม่', 'เปย์', 'เงิน', 'เดือน', 'httpstcoHvaMqHI', 'IPANGSB', 'เดือน', 'เก้า', 'ประ', 'กาศ', 'เลื่อม', 'คัม', 'แบค', 'แฮร่', 'จุด', 'ไต้', 'เผา', 'ตึก', \"I'm\", 'at', 'บัว', 'หลวง', 'หมู', 'กะ', 'ทะ', 'ปุฟเฟ่', 'httpstcolyMFOBQrXo', 'เก็บตก', 'แฟชั่น', 'โชว์', 'minaandmali', 'Mina', 'and', 'Mali', 'Australian', 'runway', 'July', 'Nakarin', 'httpstcoLQrLUSx', \"I'm\", 'at', 'โรงเรียน', 'in', 'Samut', 'Prakan', 'httpstcoFibaVEU', 'เพลง', 'เสียง', 'เพลง', 'ทาม', 'มาย', 'เพลง', 'รัก', 'nlomosonicrock', 'nlomosonic', 'nlmsnnzonerangsit', 'ZONE', 'Rangsit', 'httpstcoKIPAGNLSLT', 'ผู้ชาย', 'เวลา', 'กางเกง', 'วอร์ม', 'หืม', 'หืม', 'Just', 'posted', 'photo', 'หาด', 'เตย', 'งาม', 'ค่าย', 'นาวิก', 'โยธิน', 'สัตหีบ', 'httpstcowdwaLVgjq', 'มหาวิทยาลัย', 'ราชภัฏ', 'นครราชสีมา', 'httpstcoSOCdWQjuO', \"I'm\", 'at', 'หมู่บ้าน', 'พระปิ่น', 'in', 'Bang', 'Bon', 'Bangkok', 'httpstcoVhdvVsSCb', 'ฮะ', 'FD', 'DMK', 'CNX', 'ท่า', 'อากาศยาน', 'ดอนเมือง', 'Don', 'Muang', 'International', 'Airport', 'httpstcogrzdKiuQU', 'dentbear', 'gtlt', 'จาร', 'คอส', 'ป่าว', 'คณะ', 'ศาสตร์', 'มหาวิทยาลัย', 'อุบลราชธานี', 'in', 'ธาตุ', 'จอุบล', 'ราชธานี', 'httpstcoiWvlnry']\n"
     ]
    }
   ],
   "source": [
    "print(\"All of nouns tokens are: \\n{0}\".format(noun_tokens))"
   ]
  },
  {
   "cell_type": "markdown",
   "metadata": {},
   "source": [
    "### Cluster documents into logical groups"
   ]
  },
  {
   "cell_type": "markdown",
   "metadata": {},
   "source": [
    "#### Transform the cleaned text documents into numerical vectors\n",
    "#### Reduce dimensionality\n",
    "####  Apply Clustering algorithm\n",
    "####  Visualizing the results"
   ]
  },
  {
   "cell_type": "code",
   "execution_count": 262,
   "metadata": {},
   "outputs": [],
   "source": [
    "from sklearn.feature_extraction.text import TfidfVectorizer"
   ]
  },
  {
   "cell_type": "code",
   "execution_count": 263,
   "metadata": {},
   "outputs": [
    {
     "name": "stderr",
     "output_type": "stream",
     "text": [
      "/usr/local/lib/python3.6/site-packages/sklearn/feature_extraction/text.py:286: UserWarning: Your stop_words may be inconsistent with your preprocessing. Tokenizing the stop words generated tokens [' ', ' \\ufeff', 'กระ', 'กระไร', 'กาล', 'ก้อน', 'กํา', 'คน', 'คืน', 'คํา', 'งั้น', 'งาน', 'งี้', 'จํา', 'ชิ้น', 'ดี', 'ด้อย', 'ตัว', 'ต้น', 'ถัด', 'ถ้วน', 'ทันใด', 'ท่าน', 'ท้าย', 'ทําให', 'ทําไม', 'ทําๆ', 'นา', 'นี้', 'บัด', 'ปวง', 'ปี', 'มวล', 'มั่น', 'มือ', 'ยะๆ', 'ระ', 'ลัง', 'ล่ะ', 'ล่าง', 'วาน', 'ศก', 'สมควร', 'สมบูรณ์', 'สืบ', 'สําคัญ', 'สําห', 'หนด', 'หน้า', 'หมาย', 'หา', 'อันว่า', 'อาทิ', 'เกี่ยว', 'เก่า', 'เคียง', 'เจียน', 'เฉก', 'เช้า', 'เดิม', 'เดี๋ยว', 'เติม', 'เต็ม', 'เนื่อง', 'เปล่า', 'เป็นไร', 'เผย', 'เย็น', 'เล่า', 'เวลา', 'เสมือน', 'เหนือ', 'เหมาะ', 'เหมือน', 'แด่', 'แน่ะ', 'แม้น', 'แหล่', 'โง้น', 'โน้น', 'ใด', 'ไว', 'ไหม', 'ไหร่'] not in stop_words.\n",
      "  sorted(inconsistent))\n"
     ]
    },
    {
     "data": {
      "text/plain": [
       "TfidfVectorizer(analyzer='word', binary=False, decode_error='strict',\n",
       "        dtype=<class 'numpy.float64'>, encoding='utf-8', input='content',\n",
       "        lowercase=True, max_df=1.0, max_features=None, min_df=1,\n",
       "        ngram_range=(1, 1), norm='l2', preprocessor=None, smooth_idf=True,\n",
       "        stop_words=['\\ufeffนี้', 'นํา', 'นั้น', 'นัก', 'นอกจาก', 'ทุก', 'ที่สุด', 'ที่', 'ทําให้', 'ทํา', 'ทาง', 'ทั้งนี้', 'ดัง', 'ซึ่ง', 'ช่วง', 'จาก', 'จัด', 'จะ', 'คือ', 'ความ', 'ครั้ง', 'คง', 'ขึ้น', 'ของ', 'ขอ', 'รับ', 'ระหว่าง', 'รวม', 'ยัง', 'มี', 'มาก', 'มา', 'พร้อม', 'พบ', 'ผ่าน', 'ผล', 'บาง', 'น่...ันไหน', 'อันๆ', 'อาจจะ', 'อาจเป็น', 'อาจเป็นด้วย', 'อื่น', 'อื่นๆ', 'เอ็ง', 'เอา', 'ฯ', 'ฯล', 'ฯลฯ'],\n",
       "        strip_accents='unicode', sublinear_tf=True,\n",
       "        token_pattern='(?u)\\\\b\\\\w\\\\w+\\\\b',\n",
       "        tokenizer=<function th_tokenizer at 0x7f2d4b585ea0>, use_idf=True,\n",
       "        vocabulary=None)"
      ]
     },
     "execution_count": 263,
     "metadata": {},
     "output_type": "execute_result"
    }
   ],
   "source": [
    "cleaned_texts = data_th_df['Tweet_noun_clean'].values\n",
    "\n",
    "tfidf_vectorizer = TfidfVectorizer(\n",
    "    min_df=1, max_features=None, strip_accents='unicode', lowercase=True,\n",
    "    analyzer='word', ngram_range=(1, 1), use_idf=True, \n",
    "    smooth_idf=True, sublinear_tf=True, tokenizer=th_tokenizer, stop_words=stopwords.words('thai')\n",
    ")\n",
    "tfidf_vectorizer.fit(cleaned_texts)"
   ]
  },
  {
   "cell_type": "code",
   "execution_count": 264,
   "metadata": {},
   "outputs": [],
   "source": [
    "cleaned_texts_tfidf = tfidf_vectorizer.transform(cleaned_texts)"
   ]
  },
  {
   "cell_type": "code",
   "execution_count": 265,
   "metadata": {},
   "outputs": [
    {
     "data": {
      "text/html": [
       "<div>\n",
       "<style scoped>\n",
       "    .dataframe tbody tr th:only-of-type {\n",
       "        vertical-align: middle;\n",
       "    }\n",
       "\n",
       "    .dataframe tbody tr th {\n",
       "        vertical-align: top;\n",
       "    }\n",
       "\n",
       "    .dataframe thead th {\n",
       "        text-align: right;\n",
       "    }\n",
       "</style>\n",
       "<table border=\"1\" class=\"dataframe\">\n",
       "  <thead>\n",
       "    <tr style=\"text-align: right;\">\n",
       "      <th></th>\n",
       "      <th>words</th>\n",
       "    </tr>\n",
       "  </thead>\n",
       "  <tbody>\n",
       "    <tr>\n",
       "      <th>พี่</th>\n",
       "      <td>พี่</td>\n",
       "    </tr>\n",
       "    <tr>\n",
       "      <th></th>\n",
       "      <td></td>\n",
       "    </tr>\n",
       "    <tr>\n",
       "      <th>เก</th>\n",
       "      <td>เก</td>\n",
       "    </tr>\n",
       "    <tr>\n",
       "      <th>ร้ด</th>\n",
       "      <td>ร้ด</td>\n",
       "    </tr>\n",
       "    <tr>\n",
       "      <th>en</th>\n",
       "      <td>en</td>\n",
       "    </tr>\n",
       "  </tbody>\n",
       "</table>\n",
       "</div>"
      ],
      "text/plain": [
       "    words\n",
       "พี่   พี่\n",
       "         \n",
       "เก     เก\n",
       "ร้ด   ร้ด\n",
       "en     en"
      ]
     },
     "execution_count": 265,
     "metadata": {},
     "output_type": "execute_result"
    }
   ],
   "source": [
    "vocab_frame = pd.DataFrame({'words': list(tfidf_vectorizer.vocabulary_.keys())}, index = tfidf_vectorizer.vocabulary_.keys())\n",
    "vocab_frame.head()"
   ]
  },
  {
   "cell_type": "code",
   "execution_count": 266,
   "metadata": {
    "scrolled": true
   },
   "outputs": [
    {
     "name": "stdout",
     "output_type": "stream",
     "text": [
      "Number of vocabulary of tfidf_vectorizer is 800 words\n"
     ]
    }
   ],
   "source": [
    "print(\"Number of vocabulary of tfidf_vectorizer is {0} words\".format(len(tfidf_vectorizer.vocabulary_)))"
   ]
  },
  {
   "cell_type": "markdown",
   "metadata": {},
   "source": [
    "#### k-means Clustering"
   ]
  },
  {
   "cell_type": "code",
   "execution_count": 267,
   "metadata": {},
   "outputs": [],
   "source": [
    "from sklearn.cluster import KMeans"
   ]
  },
  {
   "cell_type": "code",
   "execution_count": 313,
   "metadata": {},
   "outputs": [
    {
     "data": {
      "text/plain": [
       "array([3, 1, 3, 1, 3, 2, 1, 3, 3, 3, 3, 3, 3, 3, 3, 1, 3, 3, 3, 3, 1, 3,\n",
       "       2, 3, 3, 3, 1, 3, 1, 3, 3, 3, 1, 1, 3, 3, 3, 3, 3, 3, 3, 3, 2, 3,\n",
       "       3, 3, 3, 3, 3, 3, 3, 3, 3, 3, 3, 3, 3, 1, 3, 3, 0, 3, 2, 3, 3, 3,\n",
       "       0, 3, 2, 3, 0, 3, 3, 2, 2, 3, 1, 2, 2, 3, 2, 2, 1, 3, 3, 2, 3, 0,\n",
       "       2, 3, 2, 2, 2, 2, 0, 3, 2, 3, 2, 2, 3, 3, 2, 3, 2, 2, 3, 2, 3, 2,\n",
       "       2, 3, 0, 3, 0, 2, 2, 3, 3, 0, 3, 3, 3, 2, 2, 2, 2, 3, 3, 0, 3, 3,\n",
       "       0, 3, 3, 2, 3, 2, 3, 3, 3, 3, 3, 2, 3, 3, 3], dtype=int32)"
      ]
     },
     "execution_count": 313,
     "metadata": {},
     "output_type": "execute_result"
    }
   ],
   "source": [
    "# number of clusters\n",
    "n_clusters = 4\n",
    "\n",
    "# fit k-mean clustering\n",
    "kmeans = KMeans(n_clusters=n_clusters, random_state = 0)\n",
    "\n",
    "kmeans.fit_predict(cleaned_texts_tfidf)"
   ]
  },
  {
   "cell_type": "code",
   "execution_count": 314,
   "metadata": {},
   "outputs": [
    {
     "name": "stderr",
     "output_type": "stream",
     "text": [
      "/usr/local/lib/python3.6/site-packages/pandas/core/indexing.py:543: SettingWithCopyWarning: \n",
      "A value is trying to be set on a copy of a slice from a DataFrame.\n",
      "Try using .loc[row_indexer,col_indexer] = value instead\n",
      "\n",
      "See the caveats in the documentation: http://pandas.pydata.org/pandas-docs/stable/indexing.html#indexing-view-versus-copy\n",
      "  self.obj[item] = s\n"
     ]
    }
   ],
   "source": [
    "clusters = kmeans.labels_.tolist()\n",
    "data_th_df.loc[:, 'clusters'] = clusters"
   ]
  },
  {
   "cell_type": "code",
   "execution_count": 315,
   "metadata": {},
   "outputs": [
    {
     "data": {
      "text/plain": [
       "3    90\n",
       "2    35\n",
       "1    12\n",
       "0    10\n",
       "Name: clusters, dtype: int64"
      ]
     },
     "execution_count": 315,
     "metadata": {},
     "output_type": "execute_result"
    }
   ],
   "source": [
    "data_th_df['clusters'].value_counts() "
   ]
  },
  {
   "cell_type": "code",
   "execution_count": 316,
   "metadata": {},
   "outputs": [
    {
     "data": {
      "text/html": [
       "<div>\n",
       "<style scoped>\n",
       "    .dataframe tbody tr th:only-of-type {\n",
       "        vertical-align: middle;\n",
       "    }\n",
       "\n",
       "    .dataframe tbody tr th {\n",
       "        vertical-align: top;\n",
       "    }\n",
       "\n",
       "    .dataframe thead th {\n",
       "        text-align: right;\n",
       "    }\n",
       "</style>\n",
       "<table border=\"1\" class=\"dataframe\">\n",
       "  <thead>\n",
       "    <tr style=\"text-align: right;\">\n",
       "      <th></th>\n",
       "      <th>Tweet ID</th>\n",
       "      <th>Country</th>\n",
       "      <th>Date</th>\n",
       "      <th>Tweet</th>\n",
       "      <th>Definitely English</th>\n",
       "      <th>Ambiguous</th>\n",
       "      <th>Definitely Not English</th>\n",
       "      <th>Code-Switched</th>\n",
       "      <th>Ambiguous due to Named Entities</th>\n",
       "      <th>Automatically Generated Tweets</th>\n",
       "      <th>guessed_lang</th>\n",
       "      <th>Tweet_clean</th>\n",
       "      <th>Tweet_noun_clean</th>\n",
       "      <th>clusters</th>\n",
       "    </tr>\n",
       "  </thead>\n",
       "  <tbody>\n",
       "    <tr>\n",
       "      <th>3</th>\n",
       "      <td>450155396590993408</td>\n",
       "      <td>TH</td>\n",
       "      <td>2014-03-30</td>\n",
       "      <td>พี่มิวววววเกร้ด</td>\n",
       "      <td>0</td>\n",
       "      <td>0</td>\n",
       "      <td>1</td>\n",
       "      <td>0</td>\n",
       "      <td>0</td>\n",
       "      <td>0</td>\n",
       "      <td>th</td>\n",
       "      <td>พี่มิวเกร้ด</td>\n",
       "      <td>พี่ เก ร้ด</td>\n",
       "      <td>3</td>\n",
       "    </tr>\n",
       "    <tr>\n",
       "      <th>1</th>\n",
       "      <td>451223589384388608</td>\n",
       "      <td>TH</td>\n",
       "      <td>2014-04-02</td>\n",
       "      <td>En France. @ งานสัปดาห์หนังสือแห่งชาติครั้งที่...</td>\n",
       "      <td>0</td>\n",
       "      <td>1</td>\n",
       "      <td>0</td>\n",
       "      <td>1</td>\n",
       "      <td>0</td>\n",
       "      <td>0</td>\n",
       "      <td>th</td>\n",
       "      <td>En France  งานสัปดาห์หนังสือแห่งชาติครั้งที่ ศ...</td>\n",
       "      <td>En France งาน สัปดาห์ หนังสือ ชาติ ศูนย์ ชาติ ...</td>\n",
       "      <td>1</td>\n",
       "    </tr>\n",
       "    <tr>\n",
       "      <th>3</th>\n",
       "      <td>451347288049188864</td>\n",
       "      <td>TH</td>\n",
       "      <td>2014-04-02</td>\n",
       "      <td>หวังว่าคงไม่ใช่นะ</td>\n",
       "      <td>0</td>\n",
       "      <td>0</td>\n",
       "      <td>1</td>\n",
       "      <td>0</td>\n",
       "      <td>0</td>\n",
       "      <td>0</td>\n",
       "      <td>th</td>\n",
       "      <td>หวังว่าคงไม่ใช่นะ</td>\n",
       "      <td>นะ</td>\n",
       "      <td>3</td>\n",
       "    </tr>\n",
       "    <tr>\n",
       "      <th>1</th>\n",
       "      <td>456422077029826560</td>\n",
       "      <td>TH</td>\n",
       "      <td>2014-04-16</td>\n",
       "      <td>15 เมษา 1912 (102ปีที่เเล้ว) เรือไททานิกอับปาง...</td>\n",
       "      <td>0</td>\n",
       "      <td>0</td>\n",
       "      <td>1</td>\n",
       "      <td>0</td>\n",
       "      <td>0</td>\n",
       "      <td>0</td>\n",
       "      <td>th</td>\n",
       "      <td>เมษา  ปีที่เเล้ว เรือไททานิกอับปางn เมษา  ตอน...</td>\n",
       "      <td>เมษา ปี เรือ ไท ทา นิ กอับ ปาง เมษา ตอน เฟ รี่...</td>\n",
       "      <td>1</td>\n",
       "    </tr>\n",
       "    <tr>\n",
       "      <th>3</th>\n",
       "      <td>456441928729362432</td>\n",
       "      <td>TH</td>\n",
       "      <td>2014-04-16</td>\n",
       "      <td>@Santa_Xiuminbot มุ้งมิ้งอะไรรร~</td>\n",
       "      <td>0</td>\n",
       "      <td>0</td>\n",
       "      <td>1</td>\n",
       "      <td>0</td>\n",
       "      <td>0</td>\n",
       "      <td>0</td>\n",
       "      <td>th</td>\n",
       "      <td>SantaXiuminbot มุ้งมิ้งอะไร</td>\n",
       "      <td>SantaXiuminbot มุ้ง มิ้ งอะ ไร</td>\n",
       "      <td>3</td>\n",
       "    </tr>\n",
       "  </tbody>\n",
       "</table>\n",
       "</div>"
      ],
      "text/plain": [
       "             Tweet ID Country        Date  \\\n",
       "3  450155396590993408      TH  2014-03-30   \n",
       "1  451223589384388608      TH  2014-04-02   \n",
       "3  451347288049188864      TH  2014-04-02   \n",
       "1  456422077029826560      TH  2014-04-16   \n",
       "3  456441928729362432      TH  2014-04-16   \n",
       "\n",
       "                                               Tweet  Definitely English  \\\n",
       "3                                    พี่มิวววววเกร้ด                   0   \n",
       "1  En France. @ งานสัปดาห์หนังสือแห่งชาติครั้งที่...                   0   \n",
       "3                                  หวังว่าคงไม่ใช่นะ                   0   \n",
       "1  15 เมษา 1912 (102ปีที่เเล้ว) เรือไททานิกอับปาง...                   0   \n",
       "3                   @Santa_Xiuminbot มุ้งมิ้งอะไรรร~                   0   \n",
       "\n",
       "   Ambiguous  Definitely Not English  Code-Switched  \\\n",
       "3          0                       1              0   \n",
       "1          1                       0              1   \n",
       "3          0                       1              0   \n",
       "1          0                       1              0   \n",
       "3          0                       1              0   \n",
       "\n",
       "   Ambiguous due to Named Entities  Automatically Generated Tweets  \\\n",
       "3                                0                               0   \n",
       "1                                0                               0   \n",
       "3                                0                               0   \n",
       "1                                0                               0   \n",
       "3                                0                               0   \n",
       "\n",
       "  guessed_lang                                        Tweet_clean  \\\n",
       "3           th                                        พี่มิวเกร้ด   \n",
       "1           th  En France  งานสัปดาห์หนังสือแห่งชาติครั้งที่ ศ...   \n",
       "3           th                                  หวังว่าคงไม่ใช่นะ   \n",
       "1           th   เมษา  ปีที่เเล้ว เรือไททานิกอับปางn เมษา  ตอน...   \n",
       "3           th                        SantaXiuminbot มุ้งมิ้งอะไร   \n",
       "\n",
       "                                    Tweet_noun_clean  clusters  \n",
       "3                                         พี่ เก ร้ด         3  \n",
       "1  En France งาน สัปดาห์ หนังสือ ชาติ ศูนย์ ชาติ ...         1  \n",
       "3                                                 นะ         3  \n",
       "1  เมษา ปี เรือ ไท ทา นิ กอับ ปาง เมษา ตอน เฟ รี่...         1  \n",
       "3                     SantaXiuminbot มุ้ง มิ้ งอะ ไร         3  "
      ]
     },
     "execution_count": 316,
     "metadata": {},
     "output_type": "execute_result"
    }
   ],
   "source": [
    "data_th_df.head()"
   ]
  },
  {
   "cell_type": "code",
   "execution_count": 317,
   "metadata": {},
   "outputs": [],
   "source": [
    "data_th_df.index = data_th_df.clusters.values"
   ]
  },
  {
   "cell_type": "code",
   "execution_count": 318,
   "metadata": {
    "scrolled": false
   },
   "outputs": [
    {
     "name": "stdout",
     "output_type": "stream",
     "text": [
      "Top terms per cluster:\n",
      "\n",
      "Cluster 0 words:  , chiang, กาแฟ, mai, mueang, in, พัก, rai, ratchaburi, darkgold, darkchocmocca, ฟิ, httpstcovxsdtyggb, khan, khiri,\n",
      "\n",
      "Cluster 0 Country: TH,\n",
      "\n",
      "Cluster 0 Automatically Generated Tweets: 0, 1,\n",
      "\n",
      "\n",
      "\n",
      "=========\n",
      "Cluster 1 words:  , ปี, คน, งาน, เหงา, ใจ, ไม่รู้, เอั, karnatthaporn, ออ, เห้, แปป, ชาติ, กาด, infiniteeffect,\n",
      "\n",
      "Cluster 1 Country: TH, CN,\n",
      "\n",
      "Cluster 1 Automatically Generated Tweets: 0,\n",
      "\n",
      "\n",
      "\n",
      "=========\n",
      "Cluster 2 words:  , at, i'm, in, bangkok, pathum, wan, bang, โรงเรียน, รา, samut, prakan, กอน, ratchathewi, siam,\n",
      "\n",
      "Cluster 2 Country: TH,\n",
      "\n",
      "Cluster 2 Automatically Generated Tweets: 0, 1,\n",
      "\n",
      "\n",
      "\n",
      "=========\n",
      "Cluster 3 words:  , บ้าน, เอ้, สัส, เวลา, ไหร่, เดือน, โอกาส, เพลง, ค่า, tmyy, httptcoetjoovvti, งง, รี, ใจ,\n",
      "\n",
      "Cluster 3 Country: TH, GB,\n",
      "\n",
      "Cluster 3 Automatically Generated Tweets: 0, 1,\n",
      "\n",
      "\n",
      "\n",
      "=========\n",
      "\n",
      "\n",
      "\n"
     ]
    }
   ],
   "source": [
    "print(\"Top terms per cluster:\")\n",
    "print()\n",
    "#sort cluster centers by proximity to centroid\n",
    "order_centroids = kmeans.cluster_centers_.argsort()[:, ::-1] \n",
    "\n",
    "for i in range(n_clusters):\n",
    "    print(\"Cluster %d words:\" % i, end='')\n",
    "    \n",
    "    for ind in order_centroids[i, :15]: # n words per cluster\n",
    "        print(' %s' % vocab_frame.loc[tfidf_vectorizer.get_feature_names()[ind]].values.tolist()[0], end=',')\n",
    "    print(\"\\n\")\n",
    "    \n",
    "    print(\"Cluster %d Country:\" % i, end='')\n",
    "    for country in data_th_df.loc[i]['Country'].unique():\n",
    "        print(' %s,' % country, end='')\n",
    "    print(\"\\n\")\n",
    "    \n",
    "    print(\"Cluster %d Automatically Generated Tweets:\" % i, end='')\n",
    "    for country in data_th_df.loc[i]['Automatically Generated Tweets'].unique():\n",
    "        print(' %s,' % country, end='')\n",
    "    print(\"\\n\")\n",
    "    \n",
    "    print(\"\\n\\n=========\")\n",
    "print(\"\\n\\n\")"
   ]
  },
  {
   "cell_type": "markdown",
   "metadata": {},
   "source": [
    "#### Multidimensional scaling\n",
    "\n",
    "convert the dist matrix into a 2-dimensional array"
   ]
  },
  {
   "cell_type": "code",
   "execution_count": 319,
   "metadata": {},
   "outputs": [],
   "source": [
    "from sklearn.metrics.pairwise import cosine_similarity\n",
    "dist = 1 - cosine_similarity(cleaned_texts_tfidf)"
   ]
  },
  {
   "cell_type": "code",
   "execution_count": 320,
   "metadata": {},
   "outputs": [
    {
     "name": "stdout",
     "output_type": "stream",
     "text": [
      "\n",
      "\n",
      "\n"
     ]
    }
   ],
   "source": [
    "from sklearn.manifold import MDS\n",
    "\n",
    "MDS()\n",
    "\n",
    "# convert two components as we're plotting points in a two-dimensional plane\n",
    "# \"precomputed\" because we provide a distance matrix\n",
    "# we will also specify `random_state` so the plot is reproducible.\n",
    "mds = MDS(n_components=2, dissimilarity=\"precomputed\", random_state=1)\n",
    "\n",
    "pos = mds.fit_transform(dist)  # shape (n_components, n_samples)\n",
    "\n",
    "xs, ys = pos[:, 0], pos[:, 1]\n",
    "print(\"\\n\\n\")"
   ]
  },
  {
   "cell_type": "markdown",
   "metadata": {},
   "source": [
    "Visualizing document clusters"
   ]
  },
  {
   "cell_type": "code",
   "execution_count": 321,
   "metadata": {},
   "outputs": [],
   "source": [
    "#set up colors per clusters using a dict\n",
    "cluster_colors = {0: '#1b9e77', 1: '#d95f02', 2: '#7570b3', 3: '#e7298a'}\n",
    "\n",
    "#set up cluster names using a dict\n",
    "cluster_names = {0: 'chiang, กาแฟ, mai, mueang, in, พัก', \n",
    "                 1: 'ปี, คน, งาน, เหงา, ใจ,', \n",
    "                 2: 'at, i\\'m, in, bangkok, pathum, wan', \n",
    "                 3: ' บ้าน, เอ้, สัส, เวลา, ไหร่, เดือน'}"
   ]
  },
  {
   "cell_type": "code",
   "execution_count": 331,
   "metadata": {},
   "outputs": [
    {
     "data": {
      "image/png": "[encoded data removed]",
      "text/plain": [
       "<Figure size 1080x576 with 1 Axes>"
      ]
     },
     "metadata": {},
     "output_type": "display_data"
    }
   ],
   "source": [
    "#create data frame that has the result of the MDS plus the cluster numbers and country\n",
    "df = pd.DataFrame(dict(x=xs, y=ys, label=clusters, country=data_th_df['Country'].values)) \n",
    "\n",
    "#group by cluster\n",
    "groups = df.groupby('label')\n",
    "\n",
    "# set up plot\n",
    "fig, ax = plt.subplots(figsize=(15, 8)) # set size\n",
    "ax.margins(0.05) # Optional, just adds 5% padding to the autoscaling\n",
    "\n",
    "#iterate through groups to layer the plot\n",
    "for name, group in groups:\n",
    "    ax.plot(group.x, group.y, marker='o', linestyle='', ms=12, \n",
    "            label=cluster_names[name], color=cluster_colors[name], \n",
    "            mec='none')\n",
    "    ax.set_aspect('auto')\n",
    "    ax.tick_params(\\\n",
    "        axis= 'x',          # changes apply to the x-axis\n",
    "        which='both',      # both major and minor ticks are affected\n",
    "        bottom='off',      # ticks along the bottom edge are off\n",
    "        top='off',         # ticks along the top edge are off\n",
    "        labelbottom='off')\n",
    "    ax.tick_params(\\\n",
    "        axis= 'y',         # changes apply to the y-axis\n",
    "        which='both',      # both major and minor ticks are affected\n",
    "        left='off',      # ticks along the bottom edge are off\n",
    "        top='off',         # ticks along the top edge are off\n",
    "        labelleft='off')\n",
    "    \n",
    "ax.legend(numpoints=1)  #show legend with only 1 point\n",
    "\n",
    "#add label in x,y position with the label as the film title\n",
    "for i in range(len(df)):\n",
    "    ax.text(df.loc[i]['x'], df.loc[i]['y'], df.loc[i]['country'], size=8)  \n",
    "\n",
    "plt.savefig('files/clusters_thai.png', dpi=100)    \n",
    "plt.show() #show the plot"
   ]
  },
  {
   "cell_type": "markdown",
   "metadata": {},
   "source": [
    "### Summary"
   ]
  },
  {
   "cell_type": "markdown",
   "metadata": {},
   "source": [
    "This dataset contains 10,502 tweets, randomly sampled from all publicly available geotagged Twitter messages. \n",
    "\n",
    "After cleaning the texts and filtering out unused words, the text messages are converted to Tf-idf vector then do clustering using k-means with number of cluster equal to 4."
   ]
  },
  {
   "cell_type": "markdown",
   "metadata": {},
   "source": [
    "According to the top terms per k-means cluster, \n",
    "\n",
    "There are 10 messages in Cluster 0 represent \"Chiang Mai\" and \"Coffee\"\n",
    "\n",
    "There are 12 messages in Cluster 1 represent the concept of \"lonely hearts\"\n",
    "\n",
    "There are 35 messages in Cluster 2 represent \"Bangkok\"\n",
    "\n",
    "There are 90 messages in Cluster 3 represented with these words  บ้าน, เอ้, สัส, เวลา, ไหร่, เดือน, โอกาส, เพลง, ค่า\n"
   ]
  }
 ],
 "metadata": {
  "anaconda-cloud": {},
  "kernelspec": {
   "display_name": "Python [default]",
   "language": "python",
   "name": "python3"
  },
  "language_info": {
   "codemirror_mode": {
    "name": "ipython",
    "version": 3
   },
   "file_extension": ".py",
   "mimetype": "text/x-python",
   "name": "python",
   "nbconvert_exporter": "python",
   "pygments_lexer": "ipython3",
   "version": "3.6.6"
  }
 },
 "nbformat": 4,
 "nbformat_minor": 2
}
